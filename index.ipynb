{
 "cells": [
  {
   "cell_type": "code",
   "execution_count": 1,
   "metadata": {},
   "outputs": [
    {
     "name": "stdout",
     "output_type": "stream",
     "text": [
      "Requirement already satisfied: pytube in c:\\users\\mhral\\appdata\\local\\packages\\pythonsoftwarefoundation.python.3.10_qbz5n2kfra8p0\\localcache\\local-packages\\python310\\site-packages (15.0.0)\n",
      "Note: you may need to restart the kernel to use updated packages.\n"
     ]
    },
    {
     "name": "stderr",
     "output_type": "stream",
     "text": [
      "\n",
      "[notice] A new release of pip is available: 23.0.1 -> 23.3.2\n",
      "[notice] To update, run: C:\\Users\\mhral\\AppData\\Local\\Microsoft\\WindowsApps\\PythonSoftwareFoundation.Python.3.10_qbz5n2kfra8p0\\python.exe -m pip install --upgrade pip\n"
     ]
    }
   ],
   "source": [
    "pip install pytube"
   ]
  },
  {
   "cell_type": "code",
   "execution_count": 2,
   "metadata": {},
   "outputs": [
    {
     "name": "stdout",
     "output_type": "stream",
     "text": [
      "Current directory: c:\\Users\\mhral\\OneDrive\\Documents\\GitHub\\File-Downloader\n",
      "Contents of folder: ['579-5795435_github-logo-png-github-logo-text-png-transparent.png', 'Business and Social Analytics (DRAFT1).docx', 'Business and Social Analytics Assignment 1.pdf', 'Certificates-Presenters 61.pdf', 'coded.png', 'desktop.ini', 'download.jpg', 'Idea#1.pdf', \"marwa's part.docx\", 'node-v20.11.0-x64.msi', \"rahma's part full.docx\", \"rahma's part.docx\", 'Resume.docx', 'x2mate.com-Her Husband Tried To Kill Her TWICE_ The Case of Victoria Cilliers-(1080p).mp4', 'x2mate.com-wannabe mafia family gets laughed at by attorneys (Adelson Family)-(1080p).mp4']\n",
      "File exists! Please choose a different name\n"
     ]
    }
   ],
   "source": [
    "import os\n",
    "\n",
    "# Get the current working directory\n",
    "current_directory = os.getcwd()\n",
    "print(\"Current directory:\", current_directory)\n",
    "\n",
    "# List files and directories in a specific folder\n",
    "folder_path = \"C:/Users/mhral/Downloads\"\n",
    "contents = os.listdir(folder_path)\n",
    "print(\"Contents of folder:\", contents)\n",
    "\n",
    "# Check if a file or folder exists\n",
    "file_path = \"c:/Users/mhral/Downloads/coded.png\"\n",
    "if os.path.exists(file_path):\n",
    "    print(\"File exists! Please choose a different name\")\n",
    "else:\n",
    "    print(\"File does not exist.\")"
   ]
  },
  {
   "cell_type": "code",
   "execution_count": null,
   "metadata": {},
   "outputs": [],
   "source": [
    "import os\n",
    "import requests\n",
    "from urllib.parse import urlparse\n",
    "from pytube import YouTube\n",
    "\n",
    "# Function to download file from URL\n",
    "def download_file(url):\n",
    "    if 'youtube.com' in url or 'youtu.be' in url:\n",
    "        # If it's a YouTube link, use pytube to download the video\n",
    "        yt = YouTube(url)\n",
    "        stream = yt.streams.get_highest_resolution()\n",
    "        return stream.download()\n",
    "    else:\n",
    "        response = requests.get(url)\n",
    "        if response.status_code == 200:\n",
    "            return response.content\n",
    "        else:\n",
    "            return None\n",
    "\n",
    "# Function to determine file type based on URL\n",
    "def get_file_type(url):\n",
    "    if 'youtube.com' in url or 'youtu.be' in url:\n",
    "        return 'video'\n",
    "    else:\n",
    "        parsed_url = urlparse(url)\n",
    "        path = parsed_url.path\n",
    "        extension = os.path.splitext(path)[1]\n",
    "        if extension in ['.mp4', '.avi', '.mov', '.wmv']:\n",
    "            return 'video'\n",
    "        elif extension in ['.jpg', '.jpeg', '.png', '.gif']:\n",
    "            return 'image'\n",
    "        elif extension in ['.pdf', '.doc', '.docx']:\n",
    "            return 'document'\n",
    "        else:\n",
    "            return 'other'\n",
    "\n",
    "# Function to move file to appropriate folder\n",
    "def move_file(file_path, file_type):\n",
    "    folder_mapping = {\n",
    "        'video': 'Videos',\n",
    "        'image': 'Pictures',\n",
    "        'document': 'Documents',\n",
    "        'other': 'Downloads'\n",
    "    }\n",
    "    destination_folder = folder_mapping.get(file_type, 'Downloads')\n",
    "    destination_path = os.path.join(destination_folder, os.path.basename(file_path))\n",
    "    os.rename(file_path, destination_path)\n",
    "    return destination_path\n",
    "\n",
    "# Main function\n",
    "def main():\n",
    "    # Get user input for URL\n",
    "    url = input(\"Enter the URL: \")\n",
    "\n",
    "    # Download file from URL\n",
    "    file_path = download_file(url)\n",
    "    if file_path:\n",
    "        # Determine file type\n",
    "        file_type = get_file_type(url)\n",
    "\n",
    "        # Create folders if they don't exist\n",
    "        for folder in ['Videos', 'Pictures', 'Documents', 'Downloads']:\n",
    "            os.makedirs(folder, exist_ok=True)\n",
    "        \n",
    "        # Move file to appropriate folder\n",
    "        destination_path = move_file(file_path, file_type)\n",
    "        print(f\"File downloaded and organized successfully!\\nSaved to: {os.path.abspath(destination_path)}\")\n",
    "    else:\n",
    "        print(\"Failed to download file.\")\n",
    "\n",
    "if __name__ == \"__main__\":\n",
    "    main()"
   ]
  },
  {
   "cell_type": "code",
   "execution_count": null,
   "metadata": {},
   "outputs": [],
   "source": []
  }
 ],
 "metadata": {
  "kernelspec": {
   "display_name": "Python 3",
   "language": "python",
   "name": "python3"
  },
  "language_info": {
   "codemirror_mode": {
    "name": "ipython",
    "version": 3
   },
   "file_extension": ".py",
   "mimetype": "text/x-python",
   "name": "python",
   "nbconvert_exporter": "python",
   "pygments_lexer": "ipython3",
   "version": "3.10.11"
  }
 },
 "nbformat": 4,
 "nbformat_minor": 2
}
